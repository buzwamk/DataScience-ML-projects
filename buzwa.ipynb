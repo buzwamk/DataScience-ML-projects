{
 "cells": [
  {
   "cell_type": "code",
   "execution_count": 1,
   "metadata": {
    "colab": {
     "base_uri": "https://localhost:8080/",
     "height": 852
    },
    "colab_type": "code",
    "id": "CQNvvEiU16tV",
    "outputId": "de80022d-81ad-4c64-fbc6-d5d084014c0d"
   },
   "outputs": [
    {
     "name": "stdout",
     "output_type": "stream",
     "text": [
      "WARNING:tensorflow:From <ipython-input-1-51d473bca957>:14: read_data_sets (from tensorflow.contrib.learn.python.learn.datasets.mnist) is deprecated and will be removed in a future version.\n",
      "Instructions for updating:\n",
      "Please use alternatives such as official/mnist/dataset.py from tensorflow/models.\n",
      "WARNING:tensorflow:From /usr/local/lib/python3.6/dist-packages/tensorflow/contrib/learn/python/learn/datasets/mnist.py:260: maybe_download (from tensorflow.contrib.learn.python.learn.datasets.base) is deprecated and will be removed in a future version.\n",
      "Instructions for updating:\n",
      "Please write your own downloading logic.\n",
      "WARNING:tensorflow:From /usr/local/lib/python3.6/dist-packages/tensorflow/contrib/learn/python/learn/datasets/base.py:252: _internal_retry.<locals>.wrap.<locals>.wrapped_fn (from tensorflow.contrib.learn.python.learn.datasets.base) is deprecated and will be removed in a future version.\n",
      "Instructions for updating:\n",
      "Please use urllib or similar directly.\n",
      "Successfully downloaded train-images-idx3-ubyte.gz 9912422 bytes.\n",
      "WARNING:tensorflow:From /usr/local/lib/python3.6/dist-packages/tensorflow/contrib/learn/python/learn/datasets/mnist.py:262: extract_images (from tensorflow.contrib.learn.python.learn.datasets.mnist) is deprecated and will be removed in a future version.\n",
      "Instructions for updating:\n",
      "Please use tf.data to implement this functionality.\n",
      "Extracting \\MNIST_data/train-images-idx3-ubyte.gz\n",
      "Successfully downloaded train-labels-idx1-ubyte.gz 28881 bytes.\n",
      "WARNING:tensorflow:From /usr/local/lib/python3.6/dist-packages/tensorflow/contrib/learn/python/learn/datasets/mnist.py:267: extract_labels (from tensorflow.contrib.learn.python.learn.datasets.mnist) is deprecated and will be removed in a future version.\n",
      "Instructions for updating:\n",
      "Please use tf.data to implement this functionality.\n",
      "Extracting \\MNIST_data/train-labels-idx1-ubyte.gz\n",
      "Successfully downloaded t10k-images-idx3-ubyte.gz 1648877 bytes.\n",
      "Extracting \\MNIST_data/t10k-images-idx3-ubyte.gz\n",
      "Successfully downloaded t10k-labels-idx1-ubyte.gz 4542 bytes.\n",
      "Extracting \\MNIST_data/t10k-labels-idx1-ubyte.gz\n",
      "WARNING:tensorflow:From /usr/local/lib/python3.6/dist-packages/tensorflow/contrib/learn/python/learn/datasets/mnist.py:290: DataSet.__init__ (from tensorflow.contrib.learn.python.learn.datasets.mnist) is deprecated and will be removed in a future version.\n",
      "Instructions for updating:\n",
      "Please use alternatives such as official/mnist/dataset.py from tensorflow/models.\n",
      "MNIST Training X dims: (55000, 784), Y dims: (55000,)\n",
      "MNIST Validation X dims: (5000, 784), Y dims: (5000,)\n",
      "MNIST Testing X dims: (10000, 784), Y dims: (10000,)\n",
      "             precision    recall  f1-score   support\n",
      "\n",
      "          0     0.9151    0.8532    0.8831      5444\n",
      "          1     0.8868    0.9358    0.9106      6179\n",
      "          2     0.8416    0.7267    0.7799      5470\n",
      "          3     0.7953    0.7327    0.7627      5638\n",
      "          4     0.7631    0.7671    0.7651      5307\n",
      "          5     0.7255    0.7303    0.7279      4987\n",
      "          6     0.8471    0.8108    0.8285      5417\n",
      "          7     0.8698    0.8135    0.8407      5715\n",
      "          8     0.6415    0.7441    0.6890      5389\n",
      "          9     0.6643    0.7736    0.7148      5454\n",
      "\n",
      "avg / total     0.7974    0.7912    0.7926     55000\n",
      "\n",
      "Our training set classification accuracy: 79.12%\n",
      "Our cross validation set classification accuracy: 78.62%\n",
      "Our test set classification accuracy: 79.16%\n"
     ]
    }
   ],
   "source": [
    "import numpy\n",
    "from sklearn import tree\n",
    "from sklearn import metrics\n",
    "import matplotlib.pyplot as plt\n",
    "from tensorflow.examples.tutorials.mnist import input_data\n",
    "\n",
    "#############\n",
    "# Objective #\n",
    "#############\n",
    "\n",
    "# \"Modify the Keras MNIST example to train a single decision tree model. #\n",
    "#  Show the training / validation accuracy of your model.\" #\n",
    "\n",
    "mnist = input_data.read_data_sets(\"\\MNIST_data\")\n",
    "\n",
    "print(\"MNIST Training X dims: {}, Y dims: {}\".format(mnist.train.images.shape, mnist.train.labels.shape))\n",
    "print(\"MNIST Validation X dims: {}, Y dims: {}\".format(mnist.validation.images.shape, mnist.validation.labels.shape))\n",
    "print(\"MNIST Testing X dims: {}, Y dims: {}\".format(mnist.test.images.shape, mnist.test.labels.shape))\n",
    "\n",
    "##################\n",
    "# Model training #\n",
    "##################\n",
    "\n",
    "# use mnist training set data to train the decision tree classifier #\n",
    "model = tree.DecisionTreeClassifier(criterion=\"gini\", max_depth=8, max_features=100)\n",
    "model = model.fit(mnist.train.images, mnist.train.labels)\n",
    "\n",
    "# get predictions on mnist data sets #\n",
    "prediction_train = model.predict(mnist.train.images)\n",
    "prediction_val = model.predict(mnist.validation.images)\n",
    "prediction_test = model.predict(mnist.test.images)\n",
    "\n",
    "##############\n",
    "# Evaluation #\n",
    "##############\n",
    "\n",
    "# evaluate f1 scores for each class to determine individual class performance #\n",
    "print((metrics.classification_report(mnist.train.labels, prediction_train, digits=4)))\n",
    "\n",
    "# evaluate classification accuracy for each data set to see if model capacity fits the data set #\n",
    "print(\"Our training set classification accuracy: {}%\".format(100*metrics.accuracy_score(mnist.train.labels, prediction_train)))\n",
    "print(\"Our cross validation set classification accuracy: {}%\".format(100*metrics.accuracy_score(mnist.validation.labels, prediction_val)))\n",
    "print(\"Our test set classification accuracy: {}%\".format(100*metrics.accuracy_score(mnist.test.labels, prediction_test)))\n",
    "\n",
    "\n",
    "\n",
    "\n",
    "###############\n",
    "# Conclusions #\n",
    "###############\n",
    "\n",
    "# by comparing the training set classification # \n",
    "# accuracy to the test set classification accuracy # \n",
    "# (or the cross validation set accuracy) we can conclude # \n",
    "# that our model is overfitting the mnist data #\n",
    "# beyond a tree depth of around 8 and max_features of around 100, the models starts to show signs of over-fitting the data #\n",
    "\n"
   ]
  },
  {
   "cell_type": "code",
   "execution_count": 0,
   "metadata": {
    "colab": {},
    "colab_type": "code",
    "id": "hsTTsZlSwfw5"
   },
   "outputs": [],
   "source": []
  }
 ],
 "metadata": {
  "colab": {
   "collapsed_sections": [],
   "name": "buzwa.ipynb",
   "provenance": [],
   "version": "0.3.2"
  },
  "kernelspec": {
   "display_name": "Python 3",
   "language": "python",
   "name": "python3"
  },
  "language_info": {
   "codemirror_mode": {
    "name": "ipython",
    "version": 3
   },
   "file_extension": ".py",
   "mimetype": "text/x-python",
   "name": "python",
   "nbconvert_exporter": "python",
   "pygments_lexer": "ipython3",
   "version": "3.6.5"
  }
 },
 "nbformat": 4,
 "nbformat_minor": 1
}
