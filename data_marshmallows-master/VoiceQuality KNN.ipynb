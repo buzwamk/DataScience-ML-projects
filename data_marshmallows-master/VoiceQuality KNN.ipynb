{
 "cells": [
  {
   "cell_type": "code",
   "execution_count": 59,
   "metadata": {},
   "outputs": [],
   "source": [
    "import numpy as np\n",
    "import pandas as pd\n",
    "import matplotlib.pyplot as plt\n",
    "import scipy\n",
    "import seaborn as sns\n",
    "from sklearn import metrics\n",
    "from sklearn.neighbors import KNeighborsClassifier\n",
    "from sklearn.preprocessing import LabelEncoder\n",
    "from sklearn.linear_model import LogisticRegression\n",
    "from sklearn.model_selection import cross_val_score\n",
    "from sklearn.metrics import mean_squared_error\n",
    "from sklearn.model_selection import train_test_split"
   ]
  },
  {
   "cell_type": "code",
   "execution_count": 27,
   "metadata": {},
   "outputs": [],
   "source": [
    "df = pd.read_csv('data/VoiceQuality.csv')"
   ]
  },
  {
   "cell_type": "code",
   "execution_count": 28,
   "metadata": {},
   "outputs": [
    {
     "data": {
      "text/html": [
       "<div>\n",
       "<style scoped>\n",
       "    .dataframe tbody tr th:only-of-type {\n",
       "        vertical-align: middle;\n",
       "    }\n",
       "\n",
       "    .dataframe tbody tr th {\n",
       "        vertical-align: top;\n",
       "    }\n",
       "\n",
       "    .dataframe thead th {\n",
       "        text-align: right;\n",
       "    }\n",
       "</style>\n",
       "<table border=\"1\" class=\"dataframe\">\n",
       "  <thead>\n",
       "    <tr style=\"text-align: right;\">\n",
       "      <th></th>\n",
       "      <th>Unnamed: 0</th>\n",
       "      <th>Operator</th>\n",
       "      <th>IndoorOutdoorTravelling</th>\n",
       "      <th>NetworkType</th>\n",
       "      <th>Rating</th>\n",
       "      <th>CallDropCategory</th>\n",
       "      <th>Latitude</th>\n",
       "      <th>Longitude</th>\n",
       "      <th>StateName</th>\n",
       "    </tr>\n",
       "  </thead>\n",
       "  <tbody>\n",
       "    <tr>\n",
       "      <th>0</th>\n",
       "      <td>0</td>\n",
       "      <td>Airtel</td>\n",
       "      <td>Indoor</td>\n",
       "      <td>3G</td>\n",
       "      <td>5</td>\n",
       "      <td>Satisfactory</td>\n",
       "      <td>28.422966</td>\n",
       "      <td>76.912324</td>\n",
       "      <td>Haryana</td>\n",
       "    </tr>\n",
       "    <tr>\n",
       "      <th>1</th>\n",
       "      <td>1</td>\n",
       "      <td>RJio</td>\n",
       "      <td>Indoor</td>\n",
       "      <td>4G</td>\n",
       "      <td>4</td>\n",
       "      <td>Satisfactory</td>\n",
       "      <td>11.158358</td>\n",
       "      <td>77.301897</td>\n",
       "      <td>Tamil Nadu</td>\n",
       "    </tr>\n",
       "    <tr>\n",
       "      <th>2</th>\n",
       "      <td>2</td>\n",
       "      <td>Airtel</td>\n",
       "      <td>Outdoor</td>\n",
       "      <td>3G</td>\n",
       "      <td>5</td>\n",
       "      <td>Satisfactory</td>\n",
       "      <td>28.422931</td>\n",
       "      <td>76.912253</td>\n",
       "      <td>Haryana</td>\n",
       "    </tr>\n",
       "    <tr>\n",
       "      <th>3</th>\n",
       "      <td>3</td>\n",
       "      <td>Airtel</td>\n",
       "      <td>Travelling</td>\n",
       "      <td>3G</td>\n",
       "      <td>5</td>\n",
       "      <td>Satisfactory</td>\n",
       "      <td>28.422947</td>\n",
       "      <td>76.912260</td>\n",
       "      <td>Haryana</td>\n",
       "    </tr>\n",
       "    <tr>\n",
       "      <th>4</th>\n",
       "      <td>4</td>\n",
       "      <td>RJio</td>\n",
       "      <td>Indoor</td>\n",
       "      <td>4G</td>\n",
       "      <td>5</td>\n",
       "      <td>Satisfactory</td>\n",
       "      <td>25.625990</td>\n",
       "      <td>85.094294</td>\n",
       "      <td>Bihar</td>\n",
       "    </tr>\n",
       "  </tbody>\n",
       "</table>\n",
       "</div>"
      ],
      "text/plain": [
       "   Unnamed: 0 Operator IndoorOutdoorTravelling NetworkType  Rating  \\\n",
       "0           0   Airtel                  Indoor          3G       5   \n",
       "1           1     RJio                  Indoor          4G       4   \n",
       "2           2   Airtel                 Outdoor          3G       5   \n",
       "3           3   Airtel              Travelling          3G       5   \n",
       "4           4     RJio                  Indoor          4G       5   \n",
       "\n",
       "  CallDropCategory   Latitude  Longitude   StateName  \n",
       "0     Satisfactory  28.422966  76.912324     Haryana  \n",
       "1     Satisfactory  11.158358  77.301897  Tamil Nadu  \n",
       "2     Satisfactory  28.422931  76.912253     Haryana  \n",
       "3     Satisfactory  28.422947  76.912260     Haryana  \n",
       "4     Satisfactory  25.625990  85.094294       Bihar  "
      ]
     },
     "execution_count": 28,
     "metadata": {},
     "output_type": "execute_result"
    }
   ],
   "source": [
    "df.head()"
   ]
  },
  {
   "cell_type": "code",
   "execution_count": 29,
   "metadata": {},
   "outputs": [
    {
     "data": {
      "text/plain": [
       "array(['Indoor', 'Outdoor', 'Travelling'], dtype=object)"
      ]
     },
     "execution_count": 29,
     "metadata": {},
     "output_type": "execute_result"
    }
   ],
   "source": [
    "df.IndoorOutdoorTravelling.unique()"
   ]
  },
  {
   "cell_type": "code",
   "execution_count": 30,
   "metadata": {},
   "outputs": [],
   "source": [
    "df.IndoorOutdoorTravelling.replace('Travelling', 'Outdoor', inplace=True)"
   ]
  },
  {
   "cell_type": "code",
   "execution_count": 31,
   "metadata": {},
   "outputs": [
    {
     "data": {
      "text/plain": [
       "array(['Indoor', 'Outdoor'], dtype=object)"
      ]
     },
     "execution_count": 31,
     "metadata": {},
     "output_type": "execute_result"
    }
   ],
   "source": [
    "df.IndoorOutdoorTravelling.unique()"
   ]
  },
  {
   "cell_type": "code",
   "execution_count": 32,
   "metadata": {},
   "outputs": [],
   "source": [
    "df['IndoorOutdoorTravelling'] =  df['IndoorOutdoorTravelling'].map({'Indoor':1, 'Outdoor':0}).astype(int)"
   ]
  },
  {
   "cell_type": "code",
   "execution_count": 33,
   "metadata": {},
   "outputs": [
    {
     "data": {
      "text/plain": [
       "array([1, 0], dtype=int64)"
      ]
     },
     "execution_count": 33,
     "metadata": {},
     "output_type": "execute_result"
    }
   ],
   "source": [
    "df.IndoorOutdoorTravelling.unique()"
   ]
  },
  {
   "cell_type": "code",
   "execution_count": 34,
   "metadata": {},
   "outputs": [
    {
     "data": {
      "text/html": [
       "<div>\n",
       "<style scoped>\n",
       "    .dataframe tbody tr th:only-of-type {\n",
       "        vertical-align: middle;\n",
       "    }\n",
       "\n",
       "    .dataframe tbody tr th {\n",
       "        vertical-align: top;\n",
       "    }\n",
       "\n",
       "    .dataframe thead th {\n",
       "        text-align: right;\n",
       "    }\n",
       "</style>\n",
       "<table border=\"1\" class=\"dataframe\">\n",
       "  <thead>\n",
       "    <tr style=\"text-align: right;\">\n",
       "      <th></th>\n",
       "      <th>Unnamed: 0</th>\n",
       "      <th>Operator</th>\n",
       "      <th>IndoorOutdoorTravelling</th>\n",
       "      <th>NetworkType</th>\n",
       "      <th>Rating</th>\n",
       "      <th>CallDropCategory</th>\n",
       "      <th>Latitude</th>\n",
       "      <th>Longitude</th>\n",
       "      <th>StateName</th>\n",
       "    </tr>\n",
       "  </thead>\n",
       "  <tbody>\n",
       "    <tr>\n",
       "      <th>0</th>\n",
       "      <td>0</td>\n",
       "      <td>Airtel</td>\n",
       "      <td>1</td>\n",
       "      <td>3G</td>\n",
       "      <td>5</td>\n",
       "      <td>Satisfactory</td>\n",
       "      <td>28.422966</td>\n",
       "      <td>76.912324</td>\n",
       "      <td>Haryana</td>\n",
       "    </tr>\n",
       "    <tr>\n",
       "      <th>1</th>\n",
       "      <td>1</td>\n",
       "      <td>RJio</td>\n",
       "      <td>1</td>\n",
       "      <td>4G</td>\n",
       "      <td>4</td>\n",
       "      <td>Satisfactory</td>\n",
       "      <td>11.158358</td>\n",
       "      <td>77.301897</td>\n",
       "      <td>Tamil Nadu</td>\n",
       "    </tr>\n",
       "    <tr>\n",
       "      <th>2</th>\n",
       "      <td>2</td>\n",
       "      <td>Airtel</td>\n",
       "      <td>0</td>\n",
       "      <td>3G</td>\n",
       "      <td>5</td>\n",
       "      <td>Satisfactory</td>\n",
       "      <td>28.422931</td>\n",
       "      <td>76.912253</td>\n",
       "      <td>Haryana</td>\n",
       "    </tr>\n",
       "    <tr>\n",
       "      <th>3</th>\n",
       "      <td>3</td>\n",
       "      <td>Airtel</td>\n",
       "      <td>0</td>\n",
       "      <td>3G</td>\n",
       "      <td>5</td>\n",
       "      <td>Satisfactory</td>\n",
       "      <td>28.422947</td>\n",
       "      <td>76.912260</td>\n",
       "      <td>Haryana</td>\n",
       "    </tr>\n",
       "    <tr>\n",
       "      <th>4</th>\n",
       "      <td>4</td>\n",
       "      <td>RJio</td>\n",
       "      <td>1</td>\n",
       "      <td>4G</td>\n",
       "      <td>5</td>\n",
       "      <td>Satisfactory</td>\n",
       "      <td>25.625990</td>\n",
       "      <td>85.094294</td>\n",
       "      <td>Bihar</td>\n",
       "    </tr>\n",
       "  </tbody>\n",
       "</table>\n",
       "</div>"
      ],
      "text/plain": [
       "   Unnamed: 0 Operator  IndoorOutdoorTravelling NetworkType  Rating  \\\n",
       "0           0   Airtel                        1          3G       5   \n",
       "1           1     RJio                        1          4G       4   \n",
       "2           2   Airtel                        0          3G       5   \n",
       "3           3   Airtel                        0          3G       5   \n",
       "4           4     RJio                        1          4G       5   \n",
       "\n",
       "  CallDropCategory   Latitude  Longitude   StateName  \n",
       "0     Satisfactory  28.422966  76.912324     Haryana  \n",
       "1     Satisfactory  11.158358  77.301897  Tamil Nadu  \n",
       "2     Satisfactory  28.422931  76.912253     Haryana  \n",
       "3     Satisfactory  28.422947  76.912260     Haryana  \n",
       "4     Satisfactory  25.625990  85.094294       Bihar  "
      ]
     },
     "execution_count": 34,
     "metadata": {},
     "output_type": "execute_result"
    }
   ],
   "source": [
    "df.head()"
   ]
  },
  {
   "cell_type": "code",
   "execution_count": 35,
   "metadata": {},
   "outputs": [],
   "source": [
    "encoder = LabelEncoder()"
   ]
  },
  {
   "cell_type": "code",
   "execution_count": 36,
   "metadata": {},
   "outputs": [],
   "source": [
    "df['CallQuality'] = encoder.fit_transform(df.CallDropCategory)"
   ]
  },
  {
   "cell_type": "code",
   "execution_count": 45,
   "metadata": {},
   "outputs": [
    {
     "data": {
      "text/html": [
       "<div>\n",
       "<style scoped>\n",
       "    .dataframe tbody tr th:only-of-type {\n",
       "        vertical-align: middle;\n",
       "    }\n",
       "\n",
       "    .dataframe tbody tr th {\n",
       "        vertical-align: top;\n",
       "    }\n",
       "\n",
       "    .dataframe thead th {\n",
       "        text-align: right;\n",
       "    }\n",
       "</style>\n",
       "<table border=\"1\" class=\"dataframe\">\n",
       "  <thead>\n",
       "    <tr style=\"text-align: right;\">\n",
       "      <th></th>\n",
       "      <th>Unnamed: 0</th>\n",
       "      <th>Operator</th>\n",
       "      <th>IndoorOutdoorTravelling</th>\n",
       "      <th>NetworkType</th>\n",
       "      <th>Rating</th>\n",
       "      <th>CallDropCategory</th>\n",
       "      <th>Latitude</th>\n",
       "      <th>Longitude</th>\n",
       "      <th>StateName</th>\n",
       "      <th>CallQuality</th>\n",
       "    </tr>\n",
       "  </thead>\n",
       "  <tbody>\n",
       "    <tr>\n",
       "      <th>0</th>\n",
       "      <td>0</td>\n",
       "      <td>Airtel</td>\n",
       "      <td>1</td>\n",
       "      <td>3G</td>\n",
       "      <td>5</td>\n",
       "      <td>Satisfactory</td>\n",
       "      <td>28.422966</td>\n",
       "      <td>76.912324</td>\n",
       "      <td>Haryana</td>\n",
       "      <td>3</td>\n",
       "    </tr>\n",
       "    <tr>\n",
       "      <th>1</th>\n",
       "      <td>1</td>\n",
       "      <td>RJio</td>\n",
       "      <td>1</td>\n",
       "      <td>4G</td>\n",
       "      <td>4</td>\n",
       "      <td>Satisfactory</td>\n",
       "      <td>11.158358</td>\n",
       "      <td>77.301897</td>\n",
       "      <td>Tamil Nadu</td>\n",
       "      <td>3</td>\n",
       "    </tr>\n",
       "    <tr>\n",
       "      <th>2</th>\n",
       "      <td>2</td>\n",
       "      <td>Airtel</td>\n",
       "      <td>0</td>\n",
       "      <td>3G</td>\n",
       "      <td>5</td>\n",
       "      <td>Satisfactory</td>\n",
       "      <td>28.422931</td>\n",
       "      <td>76.912253</td>\n",
       "      <td>Haryana</td>\n",
       "      <td>3</td>\n",
       "    </tr>\n",
       "    <tr>\n",
       "      <th>3</th>\n",
       "      <td>3</td>\n",
       "      <td>Airtel</td>\n",
       "      <td>0</td>\n",
       "      <td>3G</td>\n",
       "      <td>5</td>\n",
       "      <td>Satisfactory</td>\n",
       "      <td>28.422947</td>\n",
       "      <td>76.912260</td>\n",
       "      <td>Haryana</td>\n",
       "      <td>3</td>\n",
       "    </tr>\n",
       "    <tr>\n",
       "      <th>4</th>\n",
       "      <td>4</td>\n",
       "      <td>RJio</td>\n",
       "      <td>1</td>\n",
       "      <td>4G</td>\n",
       "      <td>5</td>\n",
       "      <td>Satisfactory</td>\n",
       "      <td>25.625990</td>\n",
       "      <td>85.094294</td>\n",
       "      <td>Bihar</td>\n",
       "      <td>3</td>\n",
       "    </tr>\n",
       "  </tbody>\n",
       "</table>\n",
       "</div>"
      ],
      "text/plain": [
       "   Unnamed: 0 Operator  IndoorOutdoorTravelling NetworkType  Rating  \\\n",
       "0           0   Airtel                        1          3G       5   \n",
       "1           1     RJio                        1          4G       4   \n",
       "2           2   Airtel                        0          3G       5   \n",
       "3           3   Airtel                        0          3G       5   \n",
       "4           4     RJio                        1          4G       5   \n",
       "\n",
       "  CallDropCategory   Latitude  Longitude   StateName  CallQuality  \n",
       "0     Satisfactory  28.422966  76.912324     Haryana            3  \n",
       "1     Satisfactory  11.158358  77.301897  Tamil Nadu            3  \n",
       "2     Satisfactory  28.422931  76.912253     Haryana            3  \n",
       "3     Satisfactory  28.422947  76.912260     Haryana            3  \n",
       "4     Satisfactory  25.625990  85.094294       Bihar            3  "
      ]
     },
     "execution_count": 45,
     "metadata": {},
     "output_type": "execute_result"
    }
   ],
   "source": [
    "df.head()"
   ]
  },
  {
   "cell_type": "code",
   "execution_count": 26,
   "metadata": {},
   "outputs": [
    {
     "data": {
      "text/plain": [
       "array([3, 1, 0, 2], dtype=int64)"
      ]
     },
     "execution_count": 26,
     "metadata": {},
     "output_type": "execute_result"
    }
   ],
   "source": [
    "# 0 = Call dropped\n",
    "# 1 = Poor Network\n",
    "# 2 = \n",
    "# 3 = Satisfactory\n",
    "df.CallDropCategory.unique() "
   ]
  },
  {
   "cell_type": "code",
   "execution_count": 46,
   "metadata": {},
   "outputs": [],
   "source": [
    "df['Network'] = encoder.fit_transform(df.NetworkType)\n",
    "#0 = 2G\n",
    "#1 = 3G\n",
    "#2 = 4G"
   ]
  },
  {
   "cell_type": "code",
   "execution_count": 51,
   "metadata": {},
   "outputs": [
    {
     "data": {
      "text/html": [
       "<div>\n",
       "<style scoped>\n",
       "    .dataframe tbody tr th:only-of-type {\n",
       "        vertical-align: middle;\n",
       "    }\n",
       "\n",
       "    .dataframe tbody tr th {\n",
       "        vertical-align: top;\n",
       "    }\n",
       "\n",
       "    .dataframe thead th {\n",
       "        text-align: right;\n",
       "    }\n",
       "</style>\n",
       "<table border=\"1\" class=\"dataframe\">\n",
       "  <thead>\n",
       "    <tr style=\"text-align: right;\">\n",
       "      <th></th>\n",
       "      <th>Unnamed: 0</th>\n",
       "      <th>Operator</th>\n",
       "      <th>IndoorOutdoorTravelling</th>\n",
       "      <th>NetworkType</th>\n",
       "      <th>Rating</th>\n",
       "      <th>CallDropCategory</th>\n",
       "      <th>Latitude</th>\n",
       "      <th>Longitude</th>\n",
       "      <th>StateName</th>\n",
       "      <th>CallQuality</th>\n",
       "      <th>Network</th>\n",
       "    </tr>\n",
       "  </thead>\n",
       "  <tbody>\n",
       "    <tr>\n",
       "      <th>0</th>\n",
       "      <td>0</td>\n",
       "      <td>Airtel</td>\n",
       "      <td>1</td>\n",
       "      <td>3G</td>\n",
       "      <td>5</td>\n",
       "      <td>Satisfactory</td>\n",
       "      <td>28.422966</td>\n",
       "      <td>76.912324</td>\n",
       "      <td>Haryana</td>\n",
       "      <td>3</td>\n",
       "      <td>1</td>\n",
       "    </tr>\n",
       "    <tr>\n",
       "      <th>1</th>\n",
       "      <td>1</td>\n",
       "      <td>RJio</td>\n",
       "      <td>1</td>\n",
       "      <td>4G</td>\n",
       "      <td>4</td>\n",
       "      <td>Satisfactory</td>\n",
       "      <td>11.158358</td>\n",
       "      <td>77.301897</td>\n",
       "      <td>Tamil Nadu</td>\n",
       "      <td>3</td>\n",
       "      <td>2</td>\n",
       "    </tr>\n",
       "    <tr>\n",
       "      <th>2</th>\n",
       "      <td>2</td>\n",
       "      <td>Airtel</td>\n",
       "      <td>0</td>\n",
       "      <td>3G</td>\n",
       "      <td>5</td>\n",
       "      <td>Satisfactory</td>\n",
       "      <td>28.422931</td>\n",
       "      <td>76.912253</td>\n",
       "      <td>Haryana</td>\n",
       "      <td>3</td>\n",
       "      <td>1</td>\n",
       "    </tr>\n",
       "    <tr>\n",
       "      <th>3</th>\n",
       "      <td>3</td>\n",
       "      <td>Airtel</td>\n",
       "      <td>0</td>\n",
       "      <td>3G</td>\n",
       "      <td>5</td>\n",
       "      <td>Satisfactory</td>\n",
       "      <td>28.422947</td>\n",
       "      <td>76.912260</td>\n",
       "      <td>Haryana</td>\n",
       "      <td>3</td>\n",
       "      <td>1</td>\n",
       "    </tr>\n",
       "    <tr>\n",
       "      <th>4</th>\n",
       "      <td>4</td>\n",
       "      <td>RJio</td>\n",
       "      <td>1</td>\n",
       "      <td>4G</td>\n",
       "      <td>5</td>\n",
       "      <td>Satisfactory</td>\n",
       "      <td>25.625990</td>\n",
       "      <td>85.094294</td>\n",
       "      <td>Bihar</td>\n",
       "      <td>3</td>\n",
       "      <td>2</td>\n",
       "    </tr>\n",
       "  </tbody>\n",
       "</table>\n",
       "</div>"
      ],
      "text/plain": [
       "   Unnamed: 0 Operator  IndoorOutdoorTravelling NetworkType  Rating  \\\n",
       "0           0   Airtel                        1          3G       5   \n",
       "1           1     RJio                        1          4G       4   \n",
       "2           2   Airtel                        0          3G       5   \n",
       "3           3   Airtel                        0          3G       5   \n",
       "4           4     RJio                        1          4G       5   \n",
       "\n",
       "  CallDropCategory   Latitude  Longitude   StateName  CallQuality  Network  \n",
       "0     Satisfactory  28.422966  76.912324     Haryana            3        1  \n",
       "1     Satisfactory  11.158358  77.301897  Tamil Nadu            3        2  \n",
       "2     Satisfactory  28.422931  76.912253     Haryana            3        1  \n",
       "3     Satisfactory  28.422947  76.912260     Haryana            3        1  \n",
       "4     Satisfactory  25.625990  85.094294       Bihar            3        2  "
      ]
     },
     "execution_count": 51,
     "metadata": {},
     "output_type": "execute_result"
    }
   ],
   "source": [
    "df.head()"
   ]
  },
  {
   "cell_type": "code",
   "execution_count": 56,
   "metadata": {},
   "outputs": [],
   "source": [
    "X = df[['IndoorOutdoorTravelling', 'Rating', 'Latitude', 'Longitude', 'Network']]\n",
    "y = df['CallQuality']"
   ]
  },
  {
   "cell_type": "code",
   "execution_count": 57,
   "metadata": {},
   "outputs": [
    {
     "data": {
      "text/html": [
       "<div>\n",
       "<style scoped>\n",
       "    .dataframe tbody tr th:only-of-type {\n",
       "        vertical-align: middle;\n",
       "    }\n",
       "\n",
       "    .dataframe tbody tr th {\n",
       "        vertical-align: top;\n",
       "    }\n",
       "\n",
       "    .dataframe thead th {\n",
       "        text-align: right;\n",
       "    }\n",
       "</style>\n",
       "<table border=\"1\" class=\"dataframe\">\n",
       "  <thead>\n",
       "    <tr style=\"text-align: right;\">\n",
       "      <th></th>\n",
       "      <th>IndoorOutdoorTravelling</th>\n",
       "      <th>Rating</th>\n",
       "      <th>Latitude</th>\n",
       "      <th>Longitude</th>\n",
       "      <th>Network</th>\n",
       "    </tr>\n",
       "  </thead>\n",
       "  <tbody>\n",
       "    <tr>\n",
       "      <th>0</th>\n",
       "      <td>1</td>\n",
       "      <td>5</td>\n",
       "      <td>28.422966</td>\n",
       "      <td>76.912324</td>\n",
       "      <td>1</td>\n",
       "    </tr>\n",
       "    <tr>\n",
       "      <th>1</th>\n",
       "      <td>1</td>\n",
       "      <td>4</td>\n",
       "      <td>11.158358</td>\n",
       "      <td>77.301897</td>\n",
       "      <td>2</td>\n",
       "    </tr>\n",
       "    <tr>\n",
       "      <th>2</th>\n",
       "      <td>0</td>\n",
       "      <td>5</td>\n",
       "      <td>28.422931</td>\n",
       "      <td>76.912253</td>\n",
       "      <td>1</td>\n",
       "    </tr>\n",
       "    <tr>\n",
       "      <th>3</th>\n",
       "      <td>0</td>\n",
       "      <td>5</td>\n",
       "      <td>28.422947</td>\n",
       "      <td>76.912260</td>\n",
       "      <td>1</td>\n",
       "    </tr>\n",
       "    <tr>\n",
       "      <th>4</th>\n",
       "      <td>1</td>\n",
       "      <td>5</td>\n",
       "      <td>25.625990</td>\n",
       "      <td>85.094294</td>\n",
       "      <td>2</td>\n",
       "    </tr>\n",
       "  </tbody>\n",
       "</table>\n",
       "</div>"
      ],
      "text/plain": [
       "   IndoorOutdoorTravelling  Rating   Latitude  Longitude  Network\n",
       "0                        1       5  28.422966  76.912324        1\n",
       "1                        1       4  11.158358  77.301897        2\n",
       "2                        0       5  28.422931  76.912253        1\n",
       "3                        0       5  28.422947  76.912260        1\n",
       "4                        1       5  25.625990  85.094294        2"
      ]
     },
     "execution_count": 57,
     "metadata": {},
     "output_type": "execute_result"
    }
   ],
   "source": [
    "X.head()"
   ]
  },
  {
   "cell_type": "code",
   "execution_count": 92,
   "metadata": {},
   "outputs": [],
   "source": [
    "X_train, X_test, y_train, y_test = train_test_split(X, y, test_size=0.33, random_state = 42)"
   ]
  },
  {
   "cell_type": "code",
   "execution_count": 93,
   "metadata": {},
   "outputs": [],
   "source": [
    "Model = KNeighborsClassifier(n_neighbors=5)"
   ]
  },
  {
   "cell_type": "code",
   "execution_count": 94,
   "metadata": {},
   "outputs": [
    {
     "data": {
      "text/plain": [
       "KNeighborsClassifier(algorithm='auto', leaf_size=30, metric='minkowski',\n",
       "           metric_params=None, n_jobs=1, n_neighbors=5, p=2,\n",
       "           weights='uniform')"
      ]
     },
     "execution_count": 94,
     "metadata": {},
     "output_type": "execute_result"
    }
   ],
   "source": [
    "Model.fit(X_train, y_train)"
   ]
  },
  {
   "cell_type": "code",
   "execution_count": 95,
   "metadata": {},
   "outputs": [],
   "source": [
    "prediction = Model.predict(X_test)"
   ]
  },
  {
   "cell_type": "code",
   "execution_count": 96,
   "metadata": {},
   "outputs": [
    {
     "data": {
      "text/plain": [
       "0.8368780797965347"
      ]
     },
     "execution_count": 96,
     "metadata": {},
     "output_type": "execute_result"
    }
   ],
   "source": [
    "metrics.accuracy_score(y_test, prediction)"
   ]
  },
  {
   "cell_type": "code",
   "execution_count": 97,
   "metadata": {},
   "outputs": [
    {
     "name": "stdout",
     "output_type": "stream",
     "text": [
      "[[ 1279   758   215   175]\n",
      " [  649  2250   368   500]\n",
      " [  347   692  1109   352]\n",
      " [  224   614   237 21686]]\n",
      "             precision    recall  f1-score   support\n",
      "\n",
      "          0       0.51      0.53      0.52      2427\n",
      "          1       0.52      0.60      0.56      3767\n",
      "          2       0.57      0.44      0.50      2500\n",
      "          3       0.95      0.95      0.95     22761\n",
      "\n",
      "avg / total       0.84      0.84      0.84     31455\n",
      "\n"
     ]
    }
   ],
   "source": [
    "print(metrics.confusion_matrix(y_test, prediction))\n",
    "print(metrics.classification_report(y_test, prediction))"
   ]
  },
  {
   "cell_type": "code",
   "execution_count": 81,
   "metadata": {},
   "outputs": [],
   "source": [
    "model1 = KNeighborsClassifier?"
   ]
  },
  {
   "cell_type": "code",
   "execution_count": null,
   "metadata": {},
   "outputs": [],
   "source": [
    "model1 = KNeighborsClassifier"
   ]
  },
  {
   "cell_type": "code",
   "execution_count": null,
   "metadata": {},
   "outputs": [],
   "source": [
    "model1 = KNeighborsClassifier"
   ]
  },
  {
   "cell_type": "code",
   "execution_count": null,
   "metadata": {},
   "outputs": [],
   "source": []
  }
 ],
 "metadata": {
  "kernelspec": {
   "display_name": "Python 3",
   "language": "python",
   "name": "python3"
  },
  "language_info": {
   "codemirror_mode": {
    "name": "ipython",
    "version": 3
   },
   "file_extension": ".py",
   "mimetype": "text/x-python",
   "name": "python",
   "nbconvert_exporter": "python",
   "pygments_lexer": "ipython3",
   "version": "3.6.5"
  }
 },
 "nbformat": 4,
 "nbformat_minor": 2
}
